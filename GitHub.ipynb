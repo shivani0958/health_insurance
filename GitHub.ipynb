{
 "cells": [
  {
   "cell_type": "markdown",
   "id": "c888c3db-d262-4139-8c0e-3ba9b4ed24ad",
   "metadata": {},
   "source": [
    "#### git"
   ]
  },
  {
   "cell_type": "raw",
   "id": "4ccf8dc0-33aa-4e66-ac3a-3de1303202f0",
   "metadata": {},
   "source": [
    "Git is a distributed version control system that helps developers track changes and manage the development \n",
    "process efficiently"
   ]
  },
  {
   "cell_type": "markdown",
   "id": "545807fe-108f-4477-b6ed-8b6238eba7b6",
   "metadata": {},
   "source": [
    "#### 1. clone Repository"
   ]
  },
  {
   "cell_type": "code",
   "execution_count": null,
   "id": "a53564ca-1363-40d0-81c4-ee6264c4bf7c",
   "metadata": {},
   "outputs": [],
   "source": [
    "git clone url"
   ]
  },
  {
   "cell_type": "markdown",
   "id": "98882ca8-77c1-487c-a054-77c9eddba1f5",
   "metadata": {},
   "source": [
    "#### 2. Check status"
   ]
  },
  {
   "cell_type": "code",
   "execution_count": null,
   "id": "4281a479-5e4d-440b-a4c8-538fb18ada99",
   "metadata": {},
   "outputs": [],
   "source": [
    "git status"
   ]
  },
  {
   "cell_type": "markdown",
   "id": "7b52b269-832a-4c57-b7c9-116faf545b3f",
   "metadata": {},
   "source": [
    "### 3. Add files in git"
   ]
  },
  {
   "cell_type": "markdown",
   "id": "59eb49e1-2d34-41fa-be65-dbb9f2aab791",
   "metadata": {},
   "source": [
    "#### 3.1 add single file"
   ]
  },
  {
   "cell_type": "code",
   "execution_count": null,
   "id": "1db2cc5e-1b64-4b36-b144-b28f43b15ff0",
   "metadata": {},
   "outputs": [],
   "source": [
    "git add file_name\n",
    "git add app.py\n",
    "git add readme.md"
   ]
  },
  {
   "cell_type": "markdown",
   "id": "78e84770-6677-4411-8192-790e95356a5f",
   "metadata": {},
   "source": [
    "#### 3.2 add multiples files"
   ]
  },
  {
   "cell_type": "code",
   "execution_count": null,
   "id": "dbec82f2-c93f-4dd1-9c96-cf55f2d7f19a",
   "metadata": {},
   "outputs": [],
   "source": [
    "git add --all\n",
    "git add ."
   ]
  },
  {
   "cell_type": "markdown",
   "id": "e57fdd24-ed23-49b3-b9f3-cfe9b9a3f66b",
   "metadata": {},
   "source": [
    "#### 4. Add your commit"
   ]
  },
  {
   "cell_type": "code",
   "execution_count": null,
   "id": "706aed55-31ff-4883-ad77-b8943699ccdc",
   "metadata": {},
   "outputs": [],
   "source": [
    "git commit -m \"your commit message\""
   ]
  },
  {
   "cell_type": "markdown",
   "id": "fa2d61ff-2a54-41c3-84ba-018776b5d20d",
   "metadata": {},
   "source": [
    "#### 5. Push changes"
   ]
  },
  {
   "cell_type": "code",
   "execution_count": null,
   "id": "fc1b7e1c-6a0e-4beb-913b-1e11c0a401ca",
   "metadata": {},
   "outputs": [],
   "source": [
    "git push\n",
    "git push origin \"branch_name\""
   ]
  },
  {
   "cell_type": "markdown",
   "id": "ad176226-79e4-4f81-8ab4-05ce9bb35028",
   "metadata": {},
   "source": [
    "### 6. Create New Branch"
   ]
  },
  {
   "cell_type": "code",
   "execution_count": 2,
   "id": "a69d6499-a664-4a6c-83bc-3ac8b47c86ab",
   "metadata": {},
   "outputs": [],
   "source": [
    "git checkout -b branch_name\n",
    "\n",
    "example : \n",
    "git checkout -b outliers_handling\n",
    "git checkout -b eda\n",
    "git checkout -b feature_eng"
   ]
  },
  {
   "cell_type": "markdown",
   "id": "c802c6d8-04b1-463b-b2c4-6ba4007cca0b",
   "metadata": {},
   "source": [
    "#### 7. Change your branch"
   ]
  },
  {
   "cell_type": "code",
   "execution_count": 4,
   "id": "c3d7c50b-b8c7-4160-92b1-93a064d5b5b4",
   "metadata": {},
   "outputs": [],
   "source": [
    "git checkout branch_name\n",
    "\n",
    "example :\n",
    "git checkout outliers_handling\n",
    "git checkout main"
   ]
  },
  {
   "cell_type": "markdown",
   "id": "518c515d-a8d1-4e23-ad2b-877cc1200c14",
   "metadata": {},
   "source": [
    "#### 8. Delete Branch"
   ]
  },
  {
   "cell_type": "code",
   "execution_count": null,
   "id": "fd50f534-e6cf-4914-a039-6c3b468ec9cf",
   "metadata": {},
   "outputs": [],
   "source": [
    "git branch -d branch_name\n",
    "\n",
    "example\n",
    "git branch -d feature_eng"
   ]
  },
  {
   "cell_type": "markdown",
   "id": "70f57f5d-d10a-422e-98af-0136f81ceda7",
   "metadata": {},
   "source": [
    "#### 9. git pull"
   ]
  },
  {
   "cell_type": "code",
   "execution_count": null,
   "id": "6d09e641-eff7-4e7d-a40a-36753a3ab5f4",
   "metadata": {},
   "outputs": [],
   "source": [
    "git pull origin branch_name\n",
    "example\n",
    "git pull origin main"
   ]
  },
  {
   "cell_type": "code",
   "execution_count": null,
   "id": "ed339c7c-ed4a-44e5-b9b5-dc9df6c6c8b5",
   "metadata": {},
   "outputs": [],
   "source": [
    "Daily standup -call or weekly -> 10:30 am\n",
    " yesterdays work and whats planning for today\n",
    "\n",
    "Catch-up-call  with manager and team\n",
    "Progess and queries need to discuss\n",
    "\n",
    "Eod call : \n",
    "\n",
    "\n",
    "Monthly / weekly > client call\n",
    "Project : progress"
   ]
  },
  {
   "cell_type": "code",
   "execution_count": null,
   "id": "4f26e5a5-ec95-4a7d-9da1-78a17b2bd5c4",
   "metadata": {},
   "outputs": [],
   "source": [
    "Project: Duration : \n",
    "Epic : 6 months (Project Planning)\n",
    "Sprint : 2 weeks (Data Cleaning/ EDA)\n",
    "story : 1day "
   ]
  },
  {
   "cell_type": "code",
   "execution_count": null,
   "id": "97ad0174-beac-4c68-8155-736a96030724",
   "metadata": {},
   "outputs": [],
   "source": [
    "kt : "
   ]
  },
  {
   "cell_type": "code",
   "execution_count": 5,
   "id": "899712cf-e928-4100-baa3-1cb682d80b10",
   "metadata": {},
   "outputs": [
    {
     "ename": "NameError",
     "evalue": "name 'b' is not defined",
     "output_type": "error",
     "traceback": [
      "\u001b[1;31m---------------------------------------------------------------------------\u001b[0m",
      "\u001b[1;31mNameError\u001b[0m                                 Traceback (most recent call last)",
      "\u001b[1;32m~\\AppData\\Local\\Temp/ipykernel_9412/2888025411.py\u001b[0m in \u001b[0;36m<module>\u001b[1;34m\u001b[0m\n\u001b[0;32m      1\u001b[0m \u001b[0ma\u001b[0m \u001b[1;33m=\u001b[0m \u001b[1;36m10\u001b[0m\u001b[1;33m\u001b[0m\u001b[1;33m\u001b[0m\u001b[0m\n\u001b[1;32m----> 2\u001b[1;33m \u001b[0mb\u001b[0m\u001b[1;33m\u001b[0m\u001b[1;33m\u001b[0m\u001b[0m\n\u001b[0m",
      "\u001b[1;31mNameError\u001b[0m: name 'b' is not defined"
     ]
    }
   ],
   "source": [
    "a = 10\n",
    "b"
   ]
  },
  {
   "cell_type": "code",
   "execution_count": null,
   "id": "e307c4fc-30ec-4c96-aea1-08b461fd4dff",
   "metadata": {},
   "outputs": [],
   "source": []
  }
 ],
 "metadata": {
  "kernelspec": {
   "display_name": "Python 3 (ipykernel)",
   "language": "python",
   "name": "python3"
  },
  "language_info": {
   "codemirror_mode": {
    "name": "ipython",
    "version": 3
   },
   "file_extension": ".py",
   "mimetype": "text/x-python",
   "name": "python",
   "nbconvert_exporter": "python",
   "pygments_lexer": "ipython3",
   "version": "3.9.7"
  }
 },
 "nbformat": 4,
 "nbformat_minor": 5
}
