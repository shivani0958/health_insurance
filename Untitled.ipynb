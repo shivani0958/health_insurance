{
 "cells": [
  {
   "cell_type": "markdown",
   "id": "c888c3db-d262-4139-8c0e-3ba9b4ed24ad",
   "metadata": {},
   "source": [
    "#### git"
   ]
  },
  {
   "cell_type": "raw",
   "id": "4ccf8dc0-33aa-4e66-ac3a-3de1303202f0",
   "metadata": {},
   "source": [
    "Git is a distributed version control system that helps developers track changes and manage the development \n",
    "process efficiently"
   ]
  },
  {
   "cell_type": "markdown",
   "id": "545807fe-108f-4477-b6ed-8b6238eba7b6",
   "metadata": {},
   "source": [
    "#### 1. clone Repository"
   ]
  },
  {
   "cell_type": "code",
   "execution_count": null,
   "id": "a53564ca-1363-40d0-81c4-ee6264c4bf7c",
   "metadata": {},
   "outputs": [],
   "source": [
    "git clone url"
   ]
  },
  {
   "cell_type": "markdown",
   "id": "98882ca8-77c1-487c-a054-77c9eddba1f5",
   "metadata": {},
   "source": [
    "#### 2. Check status"
   ]
  },
  {
   "cell_type": "code",
   "execution_count": null,
   "id": "4281a479-5e4d-440b-a4c8-538fb18ada99",
   "metadata": {},
   "outputs": [],
   "source": [
    "git status"
   ]
  },
  {
   "cell_type": "markdown",
   "id": "7b52b269-832a-4c57-b7c9-116faf545b3f",
   "metadata": {},
   "source": [
    "### 3. Add files in git"
   ]
  },
  {
   "cell_type": "markdown",
   "id": "59eb49e1-2d34-41fa-be65-dbb9f2aab791",
   "metadata": {},
   "source": [
    "#### 3.1 add single file"
   ]
  },
  {
   "cell_type": "code",
   "execution_count": null,
   "id": "1db2cc5e-1b64-4b36-b144-b28f43b15ff0",
   "metadata": {},
   "outputs": [],
   "source": [
    "git add file_name\n",
    "git add app.py\n",
    "git add readme.md"
   ]
  },
  {
   "cell_type": "markdown",
   "id": "78e84770-6677-4411-8192-790e95356a5f",
   "metadata": {},
   "source": [
    "#### 3.2 add multiples files"
   ]
  },
  {
   "cell_type": "code",
   "execution_count": null,
   "id": "dbec82f2-c93f-4dd1-9c96-cf55f2d7f19a",
   "metadata": {},
   "outputs": [],
   "source": [
    "git add --all\n",
    "git add ."
   ]
  },
  {
   "cell_type": "markdown",
   "id": "e57fdd24-ed23-49b3-b9f3-cfe9b9a3f66b",
   "metadata": {},
   "source": [
    "#### 4. Add your commit"
   ]
  },
  {
   "cell_type": "code",
   "execution_count": null,
   "id": "706aed55-31ff-4883-ad77-b8943699ccdc",
   "metadata": {},
   "outputs": [],
   "source": [
    "git commit -m \"your commit message\""
   ]
  },
  {
   "cell_type": "markdown",
   "id": "fa2d61ff-2a54-41c3-84ba-018776b5d20d",
   "metadata": {},
   "source": [
    "#### 5. Push changes"
   ]
  },
  {
   "cell_type": "code",
   "execution_count": null,
   "id": "fc1b7e1c-6a0e-4beb-913b-1e11c0a401ca",
   "metadata": {},
   "outputs": [],
   "source": [
    "git push\n",
    "git push origin \"branch_name\""
   ]
  }
 ],
 "metadata": {
  "kernelspec": {
   "display_name": "Python 3 (ipykernel)",
   "language": "python",
   "name": "python3"
  },
  "language_info": {
   "codemirror_mode": {
    "name": "ipython",
    "version": 3
   },
   "file_extension": ".py",
   "mimetype": "text/x-python",
   "name": "python",
   "nbconvert_exporter": "python",
   "pygments_lexer": "ipython3",
   "version": "3.9.7"
  }
 },
 "nbformat": 4,
 "nbformat_minor": 5
}
